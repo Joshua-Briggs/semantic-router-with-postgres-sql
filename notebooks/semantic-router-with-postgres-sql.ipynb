{
 "cells": [
  {
   "cell_type": "markdown",
   "metadata": {},
   "source": [
    "## Postgres Setup\n",
    "\n",
    "Set the following environment variables before running this notebook:\n",
    "- POSTGRES_HOST\n",
    "- POSTGRES_PORT\n",
    "- POSTGRES_DB\n",
    "- POSTGRES_USER\n",
    "- POSTGRES_PASSWORD"
   ]
  },
  {
   "cell_type": "code",
   "execution_count": 2,
   "metadata": {},
   "outputs": [],
   "source": [
    "import os\n",
    "\n",
    "# Set Postgres environment variables\n",
    "os.environ[\"POSTGRES_HOST\"] = \"localhost\"  # your host\n",
    "os.environ[\"POSTGRES_PORT\"] = \"5432\"       # your port\n",
    "os.environ[\"POSTGRES_DB\"] = \"routes_db\" # your database name\n",
    "os.environ[\"POSTGRES_USER\"] = \"postgres\"  # your username\n",
    "os.environ[\"POSTGRES_PASSWORD\"] = \"your_password\"  # your password"
   ]
  },
  {
   "cell_type": "markdown",
   "metadata": {},
   "source": [
    "Next we want to establish a connection to make sure our PostGresSQL server is running as intended, we do this using the `psycopg2` library."
   ]
  },
  {
   "cell_type": "code",
   "execution_count": 3,
   "metadata": {},
   "outputs": [
    {
     "name": "stdout",
     "output_type": "stream",
     "text": [
      "Connected!\n"
     ]
    }
   ],
   "source": [
    "import psycopg2\n",
    "\n",
    "conn = psycopg2.connect(\n",
    "    host=os.getenv(\"POSTGRES_HOST\"),\n",
    "    port=os.getenv(\"POSTGRES_PORT\"),\n",
    "    dbname=os.getenv(\"POSTGRES_DB\"),\n",
    "    user=os.getenv(\"POSTGRES_USER\"),\n",
    "    password=os.getenv(\"POSTGRES_PASSWORD\")\n",
    ")\n",
    "print(\"Connected!\")\n",
    "conn.close()"
   ]
  },
  {
   "cell_type": "markdown",
   "metadata": {},
   "source": [
    "Now we want to create the database inside our server, once this connection is established we also want to create a column for labels like finance and healthcare, then a column for utterances."
   ]
  },
  {
   "cell_type": "code",
   "execution_count": 30,
   "metadata": {},
   "outputs": [],
   "source": [
    "import os\n",
    "from sqlalchemy import create_engine, text\n",
    "from sqlalchemy.orm import sessionmaker, declarative_base\n",
    "from sqlalchemy import Column, String, Integer, Enum\n",
    "import enum\n",
    "\n",
    "Base = declarative_base()\n",
    "\n",
    "class LabelType(enum.Enum):\n",
    "    FINANCE = \"finance\"\n",
    "    HEALTHCARE = \"healthcare\"\n",
    "\n",
    "class Utterance(Base):\n",
    "    __tablename__ = 'utterances'\n",
    "    id = Column(Integer, primary_key=True, autoincrement=True)\n",
    "    utterance = Column(String, nullable=False)\n",
    "    label = Column(Enum(LabelType), nullable=False)\n",
    "\n",
    "# Build the connection string\n",
    "pg_uri = f\"postgresql+psycopg2://{os.getenv('POSTGRES_USER')}:{os.getenv('POSTGRES_PASSWORD')}@{os.getenv('POSTGRES_HOST')}:{os.getenv('POSTGRES_PORT')}/{os.getenv('POSTGRES_DB')}\"\n",
    "engine = create_engine(pg_uri)\n",
    "Session = sessionmaker(bind=engine)\n",
    "session = Session()\n",
    "\n",
    "# Create table if not exists\n",
    "Base.metadata.create_all(engine)\n",
    "\n",
    "session.query(Utterance).delete()\n",
    "session.commit()\n",
    "\n",
    "# Sample data to insert\n",
    "sample_utterances = [\n",
    "    (\"How should I invest my money?\", LabelType.FINANCE),\n",
    "    (\"What's the best way to save for retirement?\", LabelType.FINANCE),\n",
    "    (\"How do I create a budget?\", LabelType.FINANCE),\n",
    "    (\"What are good investment options?\", LabelType.FINANCE),\n",
    "    (\"How can I improve my credit score?\", LabelType.FINANCE),\n",
    "    (\"What are the symptoms of diabetes?\", LabelType.HEALTHCARE),\n",
    "    (\"How do I lower my blood pressure?\", LabelType.HEALTHCARE),\n",
    "    (\"What causes chest pain?\", LabelType.HEALTHCARE),\n",
    "    (\"Should I get a flu shot?\", LabelType.HEALTHCARE),\n",
    "    (\"I have a headache, what should I do?\", LabelType.HEALTHCARE),\n",
    "    (\"How do I start investing in stocks?\", LabelType.FINANCE),\n",
    "    (\"What's the difference between a 401k and IRA?\", LabelType.FINANCE),\n",
    "    (\"How much should I save for emergency fund?\", LabelType.FINANCE),\n",
    "    (\"What are the best credit cards for rewards?\", LabelType.FINANCE),\n",
    "    (\"How do I calculate my net worth?\", LabelType.FINANCE),\n",
    "    (\"What are the symptoms of high blood pressure?\", LabelType.HEALTHCARE),\n",
    "    (\"How do I know if I have diabetes?\", LabelType.HEALTHCARE),\n",
    "    (\"What causes migraines?\", LabelType.HEALTHCARE),\n",
    "    (\"Should I get a mammogram?\", LabelType.HEALTHCARE),\n",
    "    (\"What are the warning signs of a heart attack?\", LabelType.HEALTHCARE),\n",
    "]\n",
    "\n",
    "# Insert the sample data\n",
    "for utterance, label in sample_utterances:\n",
    "    new_utterance = Utterance(utterance=utterance, label=label)\n",
    "    session.add(new_utterance)\n",
    "\n",
    "session.commit()"
   ]
  },
  {
   "cell_type": "markdown",
   "metadata": {},
   "source": [
    "Next we can query our database to find all relevant utterances based of the label we created earlier"
   ]
  },
  {
   "cell_type": "code",
   "execution_count": 31,
   "metadata": {},
   "outputs": [],
   "source": [
    "# Query utterances from PostgreSQL\n",
    "finance_utterances = session.query(Utterance.utterance).filter(\n",
    "    Utterance.label == LabelType.FINANCE\n",
    ").all()\n",
    "\n",
    "healthcare_utterances = session.query(Utterance.utterance).filter(\n",
    "    Utterance.label == LabelType.HEALTHCARE\n",
    ").all()"
   ]
  },
  {
   "cell_type": "markdown",
   "metadata": {},
   "source": [
    "Using the search we can look through all our utterances we have for each route"
   ]
  },
  {
   "cell_type": "code",
   "execution_count": 32,
   "metadata": {},
   "outputs": [
    {
     "name": "stdout",
     "output_type": "stream",
     "text": [
      "List of financial utterances:\n",
      "1. How should I invest my money?\n",
      "2. What's the best way to save for retirement?\n",
      "3. How do I create a budget?\n",
      "4. What are good investment options?\n",
      "5. How can I improve my credit score?\n",
      "6. How do I start investing in stocks?\n",
      "7. What's the difference between a 401k and IRA?\n",
      "8. How much should I save for emergency fund?\n",
      "9. What are the best credit cards for rewards?\n",
      "10. How do I calculate my net worth?\n"
     ]
    }
   ],
   "source": [
    "print(\"List of financial utterances:\")\n",
    "for i, utterance in enumerate(finance_utterances, 1):\n",
    "    print(f\"{i}. {utterance[0]}\")"
   ]
  },
  {
   "cell_type": "code",
   "execution_count": 33,
   "metadata": {},
   "outputs": [
    {
     "name": "stdout",
     "output_type": "stream",
     "text": [
      "List of healthcare utterances:\n",
      "1. What are the symptoms of diabetes?\n",
      "2. How do I lower my blood pressure?\n",
      "3. What causes chest pain?\n",
      "4. Should I get a flu shot?\n",
      "5. I have a headache, what should I do?\n",
      "6. What are the symptoms of high blood pressure?\n",
      "7. How do I know if I have diabetes?\n",
      "8. What causes migraines?\n",
      "9. Should I get a mammogram?\n",
      "10. What are the warning signs of a heart attack?\n"
     ]
    }
   ],
   "source": [
    "print(\"List of healthcare utterances:\")\n",
    "for i, utterance in enumerate(healthcare_utterances, 1):\n",
    "    print(f\"{i}. {utterance[0]}\")"
   ]
  },
  {
   "cell_type": "markdown",
   "metadata": {},
   "source": [
    "Next we can create our `Routes` using the utterances from the database"
   ]
  },
  {
   "cell_type": "code",
   "execution_count": 34,
   "metadata": {},
   "outputs": [],
   "source": [
    "from semantic_router.route import Route\n",
    "\n",
    "# Extract just the utterance strings from the query results\n",
    "finance_route = Route(\n",
    "    name=\"finance\",\n",
    "    utterances=[row[0] for row in finance_utterances]\n",
    ")\n",
    "\n",
    "healthcare_route = Route(\n",
    "    name=\"healthcare\", \n",
    "    utterances=[row[0] for row in healthcare_utterances]\n",
    ")"
   ]
  },
  {
   "cell_type": "code",
   "execution_count": 35,
   "metadata": {},
   "outputs": [],
   "source": [
    "routes = [finance_route, healthcare_route]"
   ]
  },
  {
   "cell_type": "markdown",
   "metadata": {},
   "source": [
    "Now we need to create a dense encoder for our router, we do this using OpenAI API embedding models"
   ]
  },
  {
   "cell_type": "code",
   "execution_count": 105,
   "metadata": {},
   "outputs": [],
   "source": [
    "import os\n",
    "from getpass import getpass\n",
    "from semantic_router.encoders import OpenAIEncoder\n",
    "\n",
    "os.environ[\"OPENAI_API_KEY\"] = os.getenv(\"OPENAI_API_KEY\") or getpass(\n",
    "    \"Enter OpenAI API Key: \"\n",
    ")\n",
    "\n",
    "encoder = OpenAIEncoder(\n",
    "    name=\"text-embedding-3-large\", score_threshold=0.5, dimensions=256\n",
    ")"
   ]
  },
  {
   "cell_type": "markdown",
   "metadata": {},
   "source": [
    "Now we can put this all into our router initalization"
   ]
  },
  {
   "cell_type": "code",
   "execution_count": 106,
   "metadata": {},
   "outputs": [
    {
     "name": "stderr",
     "output_type": "stream",
     "text": [
      "2025-06-18 11:02:59 - semantic_router.utils.logger - WARNING - base.py:442 - _get_index() - No index provided. Using default LocalIndex.\n",
      "2025-06-18 11:03:00 - httpx - INFO - _client.py:1025 - _send_single_request() - HTTP Request: POST https://api.openai.com/v1/embeddings \"HTTP/1.1 200 OK\"\n",
      "2025-06-18 11:03:00 - httpx - INFO - _client.py:1025 - _send_single_request() - HTTP Request: POST https://api.openai.com/v1/embeddings \"HTTP/1.1 200 OK\"\n",
      "2025-06-18 11:03:00 - semantic_router.utils.logger - WARNING - local.py:213 - _write_config() - No config is written for LocalIndex.\n"
     ]
    }
   ],
   "source": [
    "from semantic_router.routers import SemanticRouter\n",
    "\n",
    "rl = SemanticRouter(encoder=encoder, routes=routes, auto_sync=\"local\")"
   ]
  },
  {
   "cell_type": "markdown",
   "metadata": {},
   "source": [
    "We can check the routes one last time to make sure they are correct and have the right utterances"
   ]
  },
  {
   "cell_type": "code",
   "execution_count": 108,
   "metadata": {},
   "outputs": [
    {
     "name": "stdout",
     "output_type": "stream",
     "text": [
      "\n",
      "Route: FINANCE\n",
      "Utterances:\n",
      "  1. How should I invest my money?\n",
      "  2. What's the best way to save for retirement?\n",
      "  3. How do I create a budget?\n",
      "Score threshold: 0.5\n",
      "Total utterances: 10\n",
      "\n",
      "\n",
      "\n",
      "Route: HEALTHCARE\n",
      "Utterances:\n",
      "  1. What are the symptoms of diabetes?\n",
      "  2. How do I lower my blood pressure?\n",
      "  3. What causes chest pain?\n",
      "Score threshold: 0.5\n",
      "Total utterances: 10\n",
      "\n",
      "\n"
     ]
    }
   ],
   "source": [
    "for route in rl.routes:\n",
    "    print(f\"\\nRoute: {route.name.upper()}\")\n",
    "    print(\"Utterances:\")\n",
    "    for i, utterance in enumerate(route.utterances[:3], 1):\n",
    "        print(f\"  {i}. {utterance}\")\n",
    "    print(f\"Score threshold: {route.score_threshold}\")\n",
    "    print(f\"Total utterances: {len(route.utterances)}\")\n",
    "    print(\"\\n\")"
   ]
  },
  {
   "cell_type": "markdown",
   "metadata": {},
   "source": [
    "Next we can feed the router one of the questions to see if it can correctly identify the route"
   ]
  },
  {
   "cell_type": "code",
   "execution_count": 118,
   "metadata": {},
   "outputs": [
    {
     "name": "stderr",
     "output_type": "stream",
     "text": [
      "2025-06-18 11:11:17 - httpx - INFO - _client.py:1025 - _send_single_request() - HTTP Request: POST https://api.openai.com/v1/embeddings \"HTTP/1.1 200 OK\"\n"
     ]
    },
    {
     "name": "stdout",
     "output_type": "stream",
     "text": [
      "Route Name: finance\n"
     ]
    }
   ],
   "source": [
    "result = rl(text=\"How much should I save for emergency fund?\")\n",
    "\n",
    "print(f\"Route Name: {result.name}\")"
   ]
  }
 ],
 "metadata": {
  "kernelspec": {
   "display_name": ".venv",
   "language": "python",
   "name": "python3"
  },
  "language_info": {
   "codemirror_mode": {
    "name": "ipython",
    "version": 3
   },
   "file_extension": ".py",
   "mimetype": "text/x-python",
   "name": "python",
   "nbconvert_exporter": "python",
   "pygments_lexer": "ipython3",
   "version": "3.12.7"
  }
 },
 "nbformat": 4,
 "nbformat_minor": 2
}
